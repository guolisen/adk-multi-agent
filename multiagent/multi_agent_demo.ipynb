{
 "cells": [
  {
   "cell_type": "markdown",
   "metadata": {},
   "source": [
    "# Multi-Agent System Demo\n",
    "\n",
    "This notebook demonstrates how to set up and use a multi-agent system using Google's Agent Development Kit (ADK). The system consists of specialized sub-agents (Billing and Support) coordinated by a main agent."
   ]
  },
  {
   "cell_type": "markdown",
   "metadata": {},
   "source": [
    "## Import Required Libraries"
   ]
  },
  {
   "cell_type": "code",
   "execution_count": null,
   "metadata": {},
   "outputs": [],
   "source": [
    "from google.adk.agents import LlmAgent\n",
    "from google.adk.runners import Runner\n",
    "from google.adk.artifacts import InMemoryArtifactService\n",
    "from google.adk.memory.in_memory_memory_service import InMemoryMemoryService\n",
    "from google.adk.sessions import InMemorySessionService\n",
    "from google.genai import types\n",
    "import google.generativeai as genai\n",
    "from google.adk.models.lite_llm import LiteLlm\n",
    "import os\n",
    "import logging\n",
    "import matplotlib.pyplot as plt\n",
    "import networkx as nx\n",
    "from matplotlib.colors import LinearSegmentedColormap"
   ]
  },
  {
   "cell_type": "markdown",
   "metadata": {},
   "source": [
    "## Configure Logging"
   ]
  },
  {
   "cell_type": "code",
   "execution_count": null,
   "metadata": {},
   "outputs": [],
   "source": [
    "logging.basicConfig(\n",
    "    level=logging.INFO,\n",
    "    format=\"%(asctime)s - %(name)s - %(levelname)s - %(message)s\",\n",
    ")\n",
    "logger = logging.getLogger(\"<<!!!!!!!>>\")"
   ]
  },
  {
   "cell_type": "markdown",
   "metadata": {},
   "source": [
    "## Configure API Keys\n",
    "\n",
    "**Note:** In a production environment, you should use environment variables or a secure configuration method rather than hardcoding API keys."
   ]
  },
  {
   "cell_type": "code",
   "execution_count": null,
   "metadata": {},
   "outputs": [],
   "source": [
    "genai.configure(api_key=\"\")\n",
    "os.environ['OPENAI_API_KEY'] = ''\n",
    "os.environ[\"GOOGLE_GENAI_USE_VERTEXAI\"] = \"False\"\n",
    "MODEL_GPT_4O = \"gpt-3.5-turbo-0125\""
   ]
  },
  {
   "cell_type": "markdown",
   "metadata": {},
   "source": [
    "## Define Specialized Sub-Agents\n",
    "\n",
    "We'll create two specialized agents:\n",
    "1. Billing Agent - Handles billing and payment-related inquiries\n",
    "2. Support Agent - Provides technical support and troubleshooting assistance"
   ]
  },
  {
   "cell_type": "code",
   "execution_count": null,
   "metadata": {},
   "outputs": [],
   "source": [
    "# Define specialized sub-agents\n",
    "billing_agent = LlmAgent(\n",
    "    name=\"Billing\",\n",
    "    model=LiteLlm(model=MODEL_GPT_4O),\n",
    "    instruction=\"You handle billing and payment-related inquiries.\",\n",
    "    description=\"Handles billing inquiries.\"\n",
    ")\n",
    "\n",
    "support_agent = LlmAgent(\n",
    "    name=\"Support\",\n",
    "    model=LiteLlm(model=MODEL_GPT_4O),\n",
    "    instruction=\"You provide technical support and troubleshooting assistance.\",\n",
    "    description=\"Handles technical support requests.\"\n",
    ")"
   ]
  },
  {
   "cell_type": "markdown",
   "metadata": {},
   "source": [
    "## Define the Coordinator Agent\n",
    "\n",
    "The coordinator agent routes user requests to the appropriate specialized agent."
   ]
  },
  {
   "cell_type": "code",
   "execution_count": null,
   "metadata": {},
   "outputs": [],
   "source": [
    "# Define the coordinator agent\n",
    "coordinator = LlmAgent(\n",
    "    name=\"HelpDeskCoordinator\",\n",
    "    model=LiteLlm(model=MODEL_GPT_4O),\n",
    "    instruction=\"Route user requests: Use Billing agent for payment issues, Support agent for technical problems.\",\n",
    "    description=\"Main help desk router.\",\n",
    "    sub_agents=[billing_agent, support_agent]\n",
    ")\n",
    "\n",
    "# For ADK compatibility, the root agent must be named `root_agent`\n",
    "root_agent = coordinator"
   ]
  },
  {
   "cell_type": "markdown",
   "metadata": {},
   "source": [
    "## Set Up the Runner\n",
    "\n",
    "The Runner is responsible for managing the agent execution, sessions, and artifacts."
   ]
  },
  {
   "cell_type": "code",
   "execution_count": null,
   "metadata": {},
   "outputs": [],
   "source": [
    "runner = Runner(\n",
    "        app_name=\"test_agent\",\n",
    "        agent=root_agent,\n",
    "        artifact_service=InMemoryArtifactService(),\n",
    "        session_service=InMemorySessionService(),\n",
    "        memory_service=InMemoryMemoryService(),)"
   ]
  },
  {
   "cell_type": "markdown",
   "metadata": {},
   "source": [
    "## Run a Simulation with a User Query\n",
    "\n",
    "Let's test our multi-agent system with a sample user query. You can uncomment the query you want to test."
   ]
  },
  {
   "cell_type": "code",
   "execution_count": null,
   "metadata": {},
   "outputs": [],
   "source": [
    "# Simulate a user query\n",
    "user_query = \"I can't log in gmail, help to give advice.\"\n",
    "# user_query = \"my billing is not working, help to give advice.\"\n",
    "user_id = \"test_user\"\n",
    "session_id = \"test_session\"\n",
    "\n",
    "# Create a session\n",
    "session = runner.session_service.create_session(\n",
    "    app_name=\"test_agent\",\n",
    "    user_id=user_id,\n",
    "    state={},\n",
    "    session_id=session_id,\n",
    ")"
   ]
  },
  {
   "cell_type": "code",
   "execution_count": null,
   "metadata": {},
   "outputs": [],
   "source": [
    "# Create a content object with the user query\n",
    "content = types.Content(\n",
    "    role=\"user\", \n",
    "    parts=[types.Part.from_text(text=user_query)]\n",
    ")\n",
    "\n",
    "# Run the agent with the correct parameters\n",
    "events = list(runner.run(\n",
    "    user_id=user_id, \n",
    "    session_id=session.id, \n",
    "    new_message=content\n",
    "))"
   ]
  },
  {
   "cell_type": "code",
   "execution_count": null,
   "metadata": {},
   "outputs": [],
   "source": [
    "# Process the events to get the response\n",
    "response = \"\"\n",
    "if events and events[-1].content and events[-1].content.parts:\n",
    "    for event in events:\n",
    "        logger.info(f\"Event: {event.author}, Actions: {event.actions}\")\n",
    "        response = \"\\n\".join([p.text for p in events[-1].content.parts if p.text])\n",
    "\n",
    "print(response)"
   ]
  },
  {
   "cell_type": "markdown",
   "metadata": {},
   "source": [
    "## Try Different Queries\n",
    "\n",
    "You can experiment with different user queries to see how the multi-agent system routes and handles them. For example:\n",
    "- Technical support queries should be routed to the Support agent\n",
    "- Billing and payment queries should be routed to the Billing agent"
   ]
  },
  {
   "cell_type": "code",
   "execution_count": null,
   "metadata": {},
   "outputs": [],
   "source": [
    "# Function to test different queries\n",
    "def test_query(query):\n",
    "    # Create a new session for each test\n",
    "    test_session_id = f\"test_session_{hash(query)}\"\n",
    "    session = runner.session_service.create_session(\n",
    "        app_name=\"test_agent\",\n",
    "        user_id=user_id,\n",
    "        state={},\n",
    "        session_id=test_session_id,\n",
    "    )\n",
    "    \n",
    "    # Create content and run the agent\n",
    "    content = types.Content(role=\"user\", parts=[types.Part.from_text(text=query)])\n",
    "    events = list(runner.run(user_id=user_id, session_id=session.id, new_message=content))\n",
    "    \n",
    "    # Process and return the response and events\n",
    "    if events and events[-1].content and events[-1].content.parts:\n",
    "        for event in events:\n",
    "            logger.info(f\"Event: {event.author}, Actions: {event.actions}\")\n",
    "        response = \"\\n\".join([p.text for p in events[-1].content.parts if p.text])\n",
    "        return response, events\n",
    "    return \"No response\", []\n",
    "\n",
    "# Helper function to extract agent invoke path from events\n",
    "def extract_agent_path(events):\n",
    "    agent_path = []\n",
    "    for event in events:\n",
    "        if hasattr(event, 'author') and event.author:\n",
    "            agent_path.append(event.author)\n",
    "    return agent_path"
   ]
  },
  {
   "cell_type": "code",
   "execution_count": null,
   "metadata": {},
   "outputs": [],
   "source": [
    "# Test with a technical support query\n",
    "tech_query = \"I can't access my email account\"\n",
    "print(f\"Query: {tech_query}\")\n",
    "tech_response, tech_events = test_query(tech_query)\n",
    "print(f\"Response: {tech_response}\")\n",
    "tech_path = extract_agent_path(tech_events)\n",
    "print(f\"Agent Path: {tech_path}\")"
   ]
  },
  {
   "cell_type": "code",
   "execution_count": null,
   "metadata": {},
   "outputs": [],
   "source": [
    "# Test with a billing query\n",
    "billing_query = \"I was charged twice for my subscription\"\n",
    "print(f\"Query: {billing_query}\")\n",
    "billing_response, billing_events = test_query(billing_query)\n",
    "print(f\"Response: {billing_response}\")\n",
    "billing_path = extract_agent_path(billing_events)\n",
    "print(f\"Agent Path: {billing_path}\")"
   ]
  },
  {
   "cell_type": "markdown",
   "metadata": {},
   "source": [
    "## Visualize Agent Invoke Path\n",
    "\n",
    "Let's create a chart to visualize the agent invoke path for different queries."
   ]
  },
  {
   "cell_type": "code",
   "execution_count": null,
   "metadata": {},
   "outputs": [],
   "source": [
    "def visualize_agent_path(query_paths):\n",
    "    \"\"\"\n",
    "    Visualize the agent invoke path for different queries using a directed graph.\n",
    "    \n",
    "    Args:\n",
    "        query_paths: Dictionary mapping query descriptions to agent paths\n",
    "    \"\"\"\n",
    "    plt.figure(figsize=(12, 8))\n",
    "    \n",
    "    # Create a directed graph\n",
    "    G = nx.DiGraph()\n",
    "    \n",
    "    # Define node positions manually for better layout\n",
    "    pos = {\n",
    "        \"User\": (0, 0),\n",
    "        \"HelpDeskCoordinator\": (1, 0),\n",
    "        \"Support\": (2, 0.5),\n",
    "        \"Billing\": (2, -0.5)\n",
    "    }\n",
    "    \n",
    "    # Define colors for different query types\n",
    "    colors = {\n",
    "        \"Technical Support Query\": \"blue\",\n",
    "        \"Billing Query\": \"green\"\n",
    "    }\n",
    "    \n",
    "    # Add nodes\n",
    "    G.add_node(\"User\", desc=\"User\")\n",
    "    G.add_node(\"HelpDeskCoordinator\", desc=\"Coordinator\")\n",
    "    G.add_node(\"Support\", desc=\"Support Agent\")\n",
    "    G.add_node(\"Billing\", desc=\"Billing Agent\")\n",
    "    \n",
    "    # Draw nodes\n",
    "    nx.draw_networkx_nodes(G, pos, node_size=3000, node_color=\"lightgray\")\n",
    "    \n",
    "    # Draw node labels\n",
    "    nx.draw_networkx_labels(G, pos, labels={n: G.nodes[n]['desc'] for n in G.nodes()})\n",
    "    \n",
    "    # Add edges for each query path\n",
    "    edge_colors = []\n",
    "    edge_labels = {}\n",
    "    edges = []\n",
    "    \n",
    "    for i, (query_desc, path) in enumerate(query_paths.items()):\n",
    "        # Insert \"User\" at the beginning of the path\n",
    "        full_path = [\"User\"] + path\n",
    "        \n",
    "        # Add edges for this path\n",
    "        for j in range(len(full_path) - 1):\n",
    "            source = full_path[j]\n",
    "            target = full_path[j+1]\n",
    "            edge = (source, target)\n",
    "            edges.append(edge)\n",
    "            edge_colors.append(colors[query_desc])\n",
    "            \n",
    "            # Add or update edge label\n",
    "            if edge in edge_labels:\n",
    "                edge_labels[edge] += f\", {query_desc}\"\n",
    "            else:\n",
    "                edge_labels[edge] = f\"{query_desc}\"\n",
    "    \n",
    "    # Add edges to the graph\n",
    "    G.add_edges_from(edges)\n",
    "    \n",
    "    # Draw edges with colors\n",
    "    for i, (u, v) in enumerate(edges):\n",
    "        nx.draw_networkx_edges(G, pos, edgelist=[(u, v)], width=2, \n",
    "                              edge_color=edge_colors[i], arrows=True, \n",
    "                              arrowstyle='->', arrowsize=20)\n",
    "    \n",
    "    # Draw edge labels\n",
    "    nx.draw_networkx_edge_labels(G, pos, edge_labels=edge_labels, font_size=10)\n",
    "    \n",
    "    # Add legend\n",
    "    legend_elements = [plt.Line2D([0], [0], color=color, lw=4, label=query_type)\n",
    "                      for query_type, color in colors.items()]\n",
    "    plt.legend(handles=legend_elements, loc='upper right')\n",
    "    \n",
    "    plt.title(\"Agent Invoke Path for Different Queries\", fontsize=16)\n",
    "    plt.axis('off')\n",
    "    plt.tight_layout()\n",
    "    plt.show()"
   ]
  },
  {
   "cell_type": "code",
   "execution_count": null,
   "metadata": {},
   "outputs": [],
   "source": [
    "# Create a dictionary of query paths\n",
    "query_paths = {\n",
    "    \"Technical Support Query\": tech_path,\n",
    "    \"Billing Query\": billing_path\n",
    "}\n",
    "\n",
    "# Visualize the agent invoke paths\n",
    "visualize_agent_path(query_paths)"
   ]
  },
  {
   "cell_type": "markdown",
   "metadata": {},
   "source": [
    "## Alternative Visualization: Sequence Diagram\n",
    "\n",
    "Let's also create a sequence diagram to show the flow of messages between agents."
   ]
  },
  {
   "cell_type": "code",
   "execution_count": null,
   "metadata": {},
   "outputs": [],
   "source": [
    "def plot_sequence_diagram(query_paths):\n",
    "    \"\"\"\n",
    "    Create a sequence diagram showing the flow of messages between agents.\n",
    "    \n",
    "    Args:\n",
    "        query_paths: Dictionary mapping query descriptions to agent paths\n",
    "    \"\"\"\n",
    "    plt.figure(figsize=(12, 8))\n",
    "    \n",
    "    # Define all agents\n",
    "    agents = [\"User\", \"HelpDeskCoordinator\", \"Support\", \"Billing\"]\n",
    "    \n",
    "    # Define x-positions for each agent\n",
    "    x_positions = {agent: i for i, agent in enumerate(agents)}\n",
    "    \n",
    "    # Define colors for different query types\n",
    "    colors = {\n",
    "        \"Technical Support Query\": \"blue\",\n",
    "        \"Billing Query\": \"green\"\n",
    "    }\n",
    "    \n",
    "    # Draw vertical lines for each agent\n",
    "    for agent, x in x_positions.items():\n",
    "        plt.axvline(x=x, color='gray', linestyle='--', alpha=0.5)\n",
    "        plt.text(x, -0.5, agent, ha='center', fontsize=12)\n",
    "    \n",
    "    # Plot each query path\n",
    "    y_offset = 0\n",
    "    for query_desc, path in query_paths.items():\n",
    "        # Insert \"User\" at the beginning of the path\n",
    "        full_path = [\"User\"] + path\n",
    "        \n",
    "        # Plot arrows between agents\n",
    "        for i in range(len(full_path) - 1):\n",
    "            source = full_path[i]\n",
    "            target = full_path[i+1]\n",
    "            \n",
    "            # Get x-positions\n",
    "            x_source = x_positions[source]\n",
    "            x_target = x_positions[target]\n",
    "            \n",
    "            # Calculate y-position\n",
    "            y = i + y_offset\n",
    "            \n",
    "            # Draw arrow\n",
    "            plt.arrow(x_source, y, x_target - x_source, 0, \n",
    "                     head_width=0.1, head_length=0.1, fc=colors[query_desc], ec=colors[query_desc],\n",
    "                     length_includes_head=True)\n",
    "            \n",
    "            # Add label\n",
    "            plt.text((x_source + x_target) / 2, y + 0.15, query_desc, ha='center', fontsize=8)\n",
    "        \n",
    "        y_offset += len(full_path) + 1\n",
    "    \n",
    "    # Add legend\n",
    "    legend_elements = [plt.Line2D([0], [0], color=color, lw=4, label=query_type)\n",
    "                      for query_type, color in colors.items()]\n",
    "    plt.legend(handles=legend_elements, loc='upper right')\n",
    "    \n",
    "    plt.title(\"Agent Sequence Diagram\", fontsize=16)\n",
    "    plt.ylim(-1, y_offset)\n",
    "    plt.xlim(-0.5, len(agents) - 0.5)\n",
    "    plt.axis('off')\n",
    "    plt.tight_layout()\n",
    "    plt.show()"
   ]
  },
  {
   "cell_type": "code",
   "execution_count": null,
   "metadata": {},
   "outputs": [],
   "source": [
    "# Plot the sequence diagram\n",
    "plot_sequence_diagram(query_paths)"
   ]
  }
 ],
 "metadata": {
  "kernelspec": {
   "display_name": "Python 3 (ipykernel)",
   "language": "python",
   "name": "python3"
  },
  "language_info": {
   "codemirror_mode": {
    "name": "ipython",
    "version": 3
   },
   "file_extension": ".py",
   "mimetype": "text/x-python",
   "name": "python",
   "nbconvert_exporter": "python",
   "pygments_lexer": "ipython3",
   "version": "3.13.2"
  }
 },
 "nbformat": 4,
 "nbformat_minor": 4
}
