{
 "cells": [
  {
   "cell_type": "markdown",
   "metadata": {},
   "source": [
    "# Multi-Agent System Demo\n",
    "\n",
    "This notebook demonstrates how to set up and use a multi-agent system using Google's Agent Development Kit (ADK). The system consists of specialized sub-agents (Billing and Support) coordinated by a main agent."
   ]
  },
  {
   "cell_type": "markdown",
   "metadata": {},
   "source": [
    "## Import Required Libraries"
   ]
  },
  {
   "cell_type": "code",
   "execution_count": null,
   "metadata": {},
   "outputs": [],
   "source": [
    "from google.adk.agents import LlmAgent\n",
    "from google.adk.runners import Runner\n",
    "from google.adk.artifacts import InMemoryArtifactService\n",
    "from google.adk.memory.in_memory_memory_service import InMemoryMemoryService\n",
    "from google.adk.sessions import InMemorySessionService\n",
    "from google.genai import types\n",
    "import google.generativeai as genai\n",
    "from google.adk.models.lite_llm import LiteLlm\n",
    "import os\n",
    "import logging"
   ]
  },
  {
   "cell_type": "markdown",
   "metadata": {},
   "source": [
    "## Configure Logging"
   ]
  },
  {
   "cell_type": "code",
   "execution_count": null,
   "metadata": {},
   "outputs": [],
   "source": [
    "logging.basicConfig(\n",
    "    level=logging.INFO,\n",
    "    format=\"%(asctime)s - %(name)s - %(levelname)s - %(message)s\",\n",
    ")\n",
    "logger = logging.getLogger(\"<<!!!!!!!>>\")"
   ]
  },
  {
   "cell_type": "markdown",
   "metadata": {},
   "source": [
    "## Configure API Keys\n",
    "\n",
    "**Note:** In a production environment, you should use environment variables or a secure configuration method rather than hardcoding API keys."
   ]
  },
  {
   "cell_type": "code",
   "execution_count": null,
   "metadata": {},
   "outputs": [],
   "source": [
    "genai.configure(api_key=\"\")\n",
    "os.environ['OPENAI_API_KEY'] = ''\n",
    "os.environ[\"GOOGLE_GENAI_USE_VERTEXAI\"] = \"False\"\n",
    "MODEL_GPT_4O = \"gpt-3.5-turbo-0125\""
   ]
  },
  {
   "cell_type": "markdown",
   "metadata": {},
   "source": [
    "## Define Specialized Sub-Agents\n",
    "\n",
    "We'll create two specialized agents:\n",
    "1. Billing Agent - Handles billing and payment-related inquiries\n",
    "2. Support Agent - Provides technical support and troubleshooting assistance"
   ]
  },
  {
   "cell_type": "code",
   "execution_count": null,
   "metadata": {},
   "outputs": [],
   "source": [
    "# Define specialized sub-agents\n",
    "billing_agent = LlmAgent(\n",
    "    name=\"Billing\",\n",
    "    model=LiteLlm(model=MODEL_GPT_4O),\n",
    "    instruction=\"You handle billing and payment-related inquiries.\",\n",
    "    description=\"Handles billing inquiries.\"\n",
    ")\n",
    "\n",
    "support_agent = LlmAgent(\n",
    "    name=\"Support\",\n",
    "    model=LiteLlm(model=MODEL_GPT_4O),\n",
    "    instruction=\"You provide technical support and troubleshooting assistance.\",\n",
    "    description=\"Handles technical support requests.\"\n",
    ")"
   ]
  },
  {
   "cell_type": "markdown",
   "metadata": {},
   "source": [
    "## Define the Coordinator Agent\n",
    "\n",
    "The coordinator agent routes user requests to the appropriate specialized agent."
   ]
  },
  {
   "cell_type": "code",
   "execution_count": null,
   "metadata": {},
   "outputs": [],
   "source": [
    "# Define the coordinator agent\n",
    "coordinator = LlmAgent(\n",
    "    name=\"HelpDeskCoordinator\",\n",
    "    model=LiteLlm(model=MODEL_GPT_4O),\n",
    "    instruction=\"Route user requests: Use Billing agent for payment issues, Support agent for technical problems.\",\n",
    "    description=\"Main help desk router.\",\n",
    "    sub_agents=[billing_agent, support_agent]\n",
    ")\n",
    "\n",
    "# For ADK compatibility, the root agent must be named `root_agent`\n",
    "root_agent = coordinator"
   ]
  },
  {
   "cell_type": "markdown",
   "metadata": {},
   "source": [
    "## Set Up the Runner\n",
    "\n",
    "The Runner is responsible for managing the agent execution, sessions, and artifacts."
   ]
  },
  {
   "cell_type": "code",
   "execution_count": null,
   "metadata": {},
   "outputs": [],
   "source": [
    "runner = Runner(\n",
    "        app_name=\"test_agent\",\n",
    "        agent=root_agent,\n",
    "        artifact_service=InMemoryArtifactService(),\n",
    "        session_service=InMemorySessionService(),\n",
    "        memory_service=InMemoryMemoryService(),)"
   ]
  },
  {
   "cell_type": "markdown",
   "metadata": {},
   "source": [
    "## Run a Simulation with a User Query\n",
    "\n",
    "Let's test our multi-agent system with a sample user query. You can uncomment the query you want to test."
   ]
  },
  {
   "cell_type": "code",
   "execution_count": null,
   "metadata": {},
   "outputs": [],
   "source": [
    "# Simulate a user query\n",
    "user_query = \"I can't log in gmail, help to give advice.\"\n",
    "# user_query = \"my billing is not working, help to give advice.\"\n",
    "user_id = \"test_user\"\n",
    "session_id = \"test_session\"\n",
    "\n",
    "# Create a session\n",
    "session = runner.session_service.create_session(\n",
    "    app_name=\"test_agent\",\n",
    "    user_id=user_id,\n",
    "    state={},\n",
    "    session_id=session_id,\n",
    ")"
   ]
  },
  {
   "cell_type": "code",
   "execution_count": null,
   "metadata": {},
   "outputs": [],
   "source": [
    "# Create a content object with the user query\n",
    "content = types.Content(\n",
    "    role=\"user\", \n",
    "    parts=[types.Part.from_text(text=user_query)]\n",
    ")\n",
    "\n",
    "# Run the agent with the correct parameters\n",
    "events = list(runner.run(\n",
    "    user_id=user_id, \n",
    "    session_id=session.id, \n",
    "    new_message=content\n",
    "))"
   ]
  },
  {
   "cell_type": "code",
   "execution_count": null,
   "metadata": {},
   "outputs": [],
   "source": [
    "# Process the events to get the response\n",
    "response = \"\"\n",
    "if events and events[-1].content and events[-1].content.parts:\n",
    "    for event in events:\n",
    "        logger.info(f\"Event: {event.author}, Actions: {event.actions}\")\n",
    "        response = \"\\n\".join([p.text for p in events[-1].content.parts if p.text])\n",
    "\n",
    "print(response)"
   ]
  },
  {
   "cell_type": "markdown",
   "metadata": {},
   "source": [
    "## Try Different Queries\n",
    "\n",
    "You can experiment with different user queries to see how the multi-agent system routes and handles them. For example:\n",
    "- Technical support queries should be routed to the Support agent\n",
    "- Billing and payment queries should be routed to the Billing agent"
   ]
  },
  {
   "cell_type": "code",
   "execution_count": null,
   "metadata": {},
   "outputs": [],
   "source": [
    "# Function to test different queries\n",
    "def test_query(query):\n",
    "    # Create a new session for each test\n",
    "    test_session_id = f\"test_session_{hash(query)}\"\n",
    "    session = runner.session_service.create_session(\n",
    "        app_name=\"test_agent\",\n",
    "        user_id=user_id,\n",
    "        state={},\n",
    "        session_id=test_session_id,\n",
    "    )\n",
    "    \n",
    "    # Create content and run the agent\n",
    "    content = types.Content(role=\"user\", parts=[types.Part.from_text(text=query)])\n",
    "    events = list(runner.run(user_id=user_id, session_id=session.id, new_message=content))\n",
    "    \n",
    "    # Process and return the response\n",
    "    if events and events[-1].content and events[-1].content.parts:\n",
    "        for event in events:\n",
    "            logger.info(f\"Event: {event.author}, Actions: {event.actions}\")\n",
    "        return \"\\n\".join([p.text for p in events[-1].content.parts if p.text])\n",
    "    return \"No response\""
   ]
  },
  {
   "cell_type": "code",
   "execution_count": null,
   "metadata": {},
   "outputs": [],
   "source": [
    "# Test with a technical support query\n",
    "tech_query = \"I can't access my email account\"\n",
    "print(f\"Query: {tech_query}\")\n",
    "print(f\"Response: {test_query(tech_query)}\")"
   ]
  },
  {
   "cell_type": "code",
   "execution_count": null,
   "metadata": {},
   "outputs": [],
   "source": [
    "# Test with a billing query\n",
    "billing_query = \"I was charged twice for my subscription\"\n",
    "print(f\"Query: {billing_query}\")\n",
    "print(f\"Response: {test_query(billing_query)}\")"
   ]
  }
 ],
 "metadata": {
  "kernelspec": {
   "display_name": "Python 3 (ipykernel)",
   "language": "python",
   "name": "python3"
  },
  "language_info": {
   "codemirror_mode": {
    "name": "ipython",
    "version": 3
   },
   "file_extension": ".py",
   "mimetype": "text/x-python",
   "name": "python",
   "nbconvert_exporter": "python",
   "pygments_lexer": "ipython3",
   "version": "3.13.2"
  }
 },
 "nbformat": 4,
 "nbformat_minor": 4
}
